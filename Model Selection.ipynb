{
 "cells": [
  {
   "cell_type": "markdown",
   "metadata": {},
   "source": [
    "# Model Selection\n",
    "## Amir A. Rahnama"
   ]
  },
  {
   "cell_type": "markdown",
   "metadata": {},
   "source": [
    "In this tutorial, we are going to compare the relative performance of Machine Learning models \"rigorously\"."
   ]
  },
  {
   "cell_type": "code",
   "execution_count": 118,
   "metadata": {},
   "outputs": [],
   "source": [
    "from sklearn.datasets import fetch_20newsgroups\n",
    "import pandas as pd\n",
    "import numpy as np\n",
    "from sklearn.model_selection import train_test_split, ShuffleSplit\n",
    "from sklearn.ensemble import RandomForestClassifier\n",
    "from sklearn.metrics import confusion_matrix,accuracy_score,classification_report\n",
    "from sklearn.neural_network import MLPClassifier\n",
    "import matplotlib.pyplot as plt\n",
    "from sklearn.utils import resample\n",
    "from mlxtend.evaluate import bootstrap_point632_score"
   ]
  },
  {
   "cell_type": "code",
   "execution_count": 15,
   "metadata": {},
   "outputs": [],
   "source": [
    "df = pd.read_csv('heart.csv', delimiter=',')"
   ]
  },
  {
   "cell_type": "code",
   "execution_count": 18,
   "metadata": {},
   "outputs": [
    {
     "name": "stderr",
     "output_type": "stream",
     "text": [
      "<ipython-input-18-e5a483cbb38b>:1: SettingWithCopyWarning: \n",
      "A value is trying to be set on a copy of a slice from a DataFrame\n",
      "\n",
      "See the caveats in the documentation: https://pandas.pydata.org/pandas-docs/stable/user_guide/indexing.html#returning-a-view-versus-a-copy\n",
      "  df['cp'][df['cp'] == 0] = 'typical angina'\n",
      "<ipython-input-18-e5a483cbb38b>:6: SettingWithCopyWarning: \n",
      "A value is trying to be set on a copy of a slice from a DataFrame\n",
      "\n",
      "See the caveats in the documentation: https://pandas.pydata.org/pandas-docs/stable/user_guide/indexing.html#returning-a-view-versus-a-copy\n",
      "  df['restecg'][df['restecg'] == 0] = 'normal'\n",
      "<ipython-input-18-e5a483cbb38b>:10: SettingWithCopyWarning: \n",
      "A value is trying to be set on a copy of a slice from a DataFrame\n",
      "\n",
      "See the caveats in the documentation: https://pandas.pydata.org/pandas-docs/stable/user_guide/indexing.html#returning-a-view-versus-a-copy\n",
      "  df['slope'][df['slope'] == 0] = 'upsloping'\n",
      "<ipython-input-18-e5a483cbb38b>:11: SettingWithCopyWarning: \n",
      "A value is trying to be set on a copy of a slice from a DataFrame\n",
      "\n",
      "See the caveats in the documentation: https://pandas.pydata.org/pandas-docs/stable/user_guide/indexing.html#returning-a-view-versus-a-copy\n",
      "  df['slope'][df['slope'] == 1] = 'flat'\n",
      "<ipython-input-18-e5a483cbb38b>:12: SettingWithCopyWarning: \n",
      "A value is trying to be set on a copy of a slice from a DataFrame\n",
      "\n",
      "See the caveats in the documentation: https://pandas.pydata.org/pandas-docs/stable/user_guide/indexing.html#returning-a-view-versus-a-copy\n",
      "  df['slope'][df['slope'] == 2] = 'downsloping'\n",
      "<ipython-input-18-e5a483cbb38b>:14: SettingWithCopyWarning: \n",
      "A value is trying to be set on a copy of a slice from a DataFrame\n",
      "\n",
      "See the caveats in the documentation: https://pandas.pydata.org/pandas-docs/stable/user_guide/indexing.html#returning-a-view-versus-a-copy\n",
      "  df['thal'][df['thal'] == 0] = '-'\n"
     ]
    }
   ],
   "source": [
    "df['cp'][df['cp'] == 0] = 'typical angina'\n",
    "df['cp'][df['cp'] == 1] = 'atypical angina'\n",
    "df['cp'][df['cp'] == 2] = 'non-anginal pain'\n",
    "df['cp'][df['cp'] == 3] = 'asymptomatic'\n",
    "\n",
    "df['restecg'][df['restecg'] == 0] = 'normal'\n",
    "df['restecg'][df['restecg'] == 1] = 'ST-T wave abnormality'\n",
    "df['restecg'][df['restecg'] == 2] = 'left ventricular hypertrophy'\n",
    "\n",
    "df['slope'][df['slope'] == 0] = 'upsloping'\n",
    "df['slope'][df['slope'] == 1] = 'flat'\n",
    "df['slope'][df['slope'] == 2] = 'downsloping'\n",
    "\n",
    "df['thal'][df['thal'] == 0] = '-'\n",
    "df['thal'][df['thal'] == 1] = 'normal'\n",
    "df['thal'][df['thal'] == 2] = 'fixed defect'\n",
    "df['thal'][df['thal'] == 3] = 'reversable defect'\n",
    "df_c = df.copy()\n",
    "df = pd.get_dummies(df, drop_first=True)"
   ]
  },
  {
   "cell_type": "code",
   "execution_count": 23,
   "metadata": {},
   "outputs": [],
   "source": [
    "Y = df[\"target\"]\n",
    "X = df.drop([\"target\"],axis = 1)"
   ]
  },
  {
   "cell_type": "markdown",
   "metadata": {},
   "source": [
    "### Holdout"
   ]
  },
  {
   "cell_type": "code",
   "execution_count": 207,
   "metadata": {},
   "outputs": [],
   "source": [
    "X_train, X_test, y_train, y_test = train_test_split(X,Y, test_size = 0.3 , random_state = 42)"
   ]
  },
  {
   "cell_type": "code",
   "execution_count": 208,
   "metadata": {},
   "outputs": [],
   "source": [
    "rf = RandomForestClassifier(max_depth=2, random_state=0)\n",
    "rf.fit(X_train, y_train)\n",
    "y_pred_rf = rf.predict(X_test)\n",
    "rf_ac = accuracy_score(Y_test,y_pred_rf)"
   ]
  },
  {
   "cell_type": "code",
   "execution_count": 209,
   "metadata": {},
   "outputs": [
    {
     "name": "stderr",
     "output_type": "stream",
     "text": [
      "/Users/amirrahnama/opt/anaconda3/lib/python3.8/site-packages/sklearn/neural_network/_multilayer_perceptron.py:582: ConvergenceWarning: Stochastic Optimizer: Maximum iterations (300) reached and the optimization hasn't converged yet.\n",
      "  warnings.warn(\n"
     ]
    }
   ],
   "source": [
    "mlp = MLPClassifier(random_state=1, max_iter=300).fit(X_train, y_train)\n",
    "y_pred_mlp = mlp.predict(X_test)\n",
    "mlp_ac = accuracy_score(Y_test,y_pred_mlp)"
   ]
  },
  {
   "cell_type": "code",
   "execution_count": 210,
   "metadata": {},
   "outputs": [
    {
     "data": {
      "text/plain": [
       "0.989010989010989"
      ]
     },
     "execution_count": 210,
     "metadata": {},
     "output_type": "execute_result"
    }
   ],
   "source": [
    "rf_ac"
   ]
  },
  {
   "cell_type": "code",
   "execution_count": 211,
   "metadata": {},
   "outputs": [
    {
     "data": {
      "image/png": "[encoded data removed]",
      "text/plain": [
       "<Figure size 700x500 with 1 Axes>"
      ]
     },
     "metadata": {
      "needs_background": "light"
     },
     "output_type": "display_data"
    }
   ],
   "source": [
    "fig, ax = plt.subplots(1, 1, figsize=(7,5), dpi=100)\n",
    "\n",
    "objects = ('Random Forest', 'Multi-Layer Perceptron')\n",
    "y_pos = np.arange(len(objects))\n",
    "performance = [rf_ac, mlp_ac]\n",
    "\n",
    "ax.bar(y_pos, performance, align='center', alpha=0.5)\n",
    "ax.set_xticks(y_pos)\n",
    "ax.set_xticklabels(objects)\n",
    "ax.set_ylabel('Accuracy Score')\n",
    "ax.set_title('Heart Disease UCI')\n",
    "\n",
    "plt.show()"
   ]
  },
  {
   "cell_type": "markdown",
   "metadata": {},
   "source": [
    "### Repeated Holdout"
   ]
  },
  {
   "cell_type": "code",
   "execution_count": 172,
   "metadata": {},
   "outputs": [],
   "source": [
    "rs = ShuffleSplit(n_splits=20, test_size=.5, random_state=0)\n",
    "stats_rholdout_50 = {'rf': [], 'mlp': []}\n",
    "\n",
    "for train_index, test_index in rs.split(X):\n",
    "    rf = RandomForestClassifier(max_depth=2, random_state=0).fit(X[train_index], y[train_index])\n",
    "    y_pred_rf = rf.predict(X[test_index]) \n",
    "    rf_ac = accuracy_score(y[test_index], y_pred_rf) \n",
    "    stats_rholdout_50['rf'].append(rf_ac)\n",
    "\n",
    "    mlp = MLPClassifier(random_state=1, max_iter=2000).fit(X[train_index], y[train_index])\n",
    "    y_pred_mlp = mlp.predict(X[test_index])\n",
    "    mlp_ac = accuracy_score(y[test_index], y_pred_mlp)\n",
    "    \n",
    "    stats_rholdout_50['mlp'].append(mlp_ac)"
   ]
  },
  {
   "cell_type": "code",
   "execution_count": 173,
   "metadata": {},
   "outputs": [],
   "source": [
    "rs = ShuffleSplit(n_splits=20, test_size=.25, random_state=0)\n",
    "stats_rholdout_25 = {'rf': [], 'mlp': []}\n",
    "\n",
    "for train_index, test_index in rs.split(X):\n",
    "    rf = RandomForestClassifier(max_depth=2, random_state=0).fit(X[train_index], y[train_index])\n",
    "    y_pred_rf = rf.predict(X[test_index]) \n",
    "    rf_ac = accuracy_score(y[test_index], y_pred_rf) \n",
    "    stats_rholdout_25['rf'].append(rf_ac)\n",
    "\n",
    "    mlp = MLPClassifier(random_state=1, max_iter=2000).fit(X[train_index], y[train_index])\n",
    "    y_pred_mlp = mlp.predict(X[test_index])\n",
    "    mlp_ac = accuracy_score(y[test_index], y_pred_mlp)\n",
    "    \n",
    "    stats_rholdout_25['mlp'].append(mlp_ac)"
   ]
  },
  {
   "cell_type": "code",
   "execution_count": null,
   "metadata": {},
   "outputs": [],
   "source": []
  },
  {
   "cell_type": "code",
   "execution_count": 174,
   "metadata": {},
   "outputs": [
    {
     "data": {
      "image/png": "[encoded data removed]",
      "text/plain": [
       "<Figure size 1200x500 with 2 Axes>"
      ]
     },
     "metadata": {
      "needs_background": "light"
     },
     "output_type": "display_data"
    }
   ],
   "source": [
    "fig, ax = plt.subplots(1, 2, figsize=(12, 5), dpi=100)\n",
    "ax[0].boxplot([stats_rholdout_25['rf'], stats_rholdout_25['mlp']])\n",
    "ax[0].set_xticklabels(['Random Forest', 'Multi-layer Perceptron'])\n",
    "ax[0].set_ylabel('Accuracy Score')\n",
    "ax[0].set_title('Heart Disease UCI (Holdout) 75-25')\n",
    "\n",
    "ax[1].boxplot([stats_rholdout_50['rf'], stats_rholdout_50['mlp']])\n",
    "ax[1].set_xticklabels(['Random Forest', 'Multi-layer Perceptron'])\n",
    "ax[1].set_ylabel('Accuracy Score')\n",
    "ax[1].set_title('Heart Disease UCI (Holdout) 50-50')\n",
    "\n",
    "\n",
    "plt.show()"
   ]
  },
  {
   "cell_type": "code",
   "execution_count": 214,
   "metadata": {},
   "outputs": [
    {
     "data": {
      "text/plain": [
       "(0.8904605263157895, 0.9638157894736841)"
      ]
     },
     "execution_count": 214,
     "metadata": {},
     "output_type": "execute_result"
    }
   ],
   "source": [
    "np.mean(stats_rholdout_50['rf']), np.mean(stats_rholdout_50['mlp'])"
   ]
  },
  {
   "cell_type": "code",
   "execution_count": 183,
   "metadata": {},
   "outputs": [
    {
     "name": "stdout",
     "output_type": "stream",
     "text": [
      "95% Confidence interval: [83.45, 94.55]\n"
     ]
    }
   ],
   "source": [
    "lower_rf = np.percentile(stats_rholdout_50['rf'], 2.5)\n",
    "upper_rf = np.percentile(stats_rholdout_50['rf'], 97.5)\n",
    "print('95%% Confidence interval: [%.2f, %.2f]' % (100*lower_rf, 100*upper))"
   ]
  },
  {
   "cell_type": "markdown",
   "metadata": {},
   "source": [
    "### Bootstrap resampling"
   ]
  },
  {
   "cell_type": "code",
   "execution_count": 190,
   "metadata": {},
   "outputs": [],
   "source": [
    "n_iterations = 50 \n",
    "n_size = int(len(data) * 0.5)\n",
    "\n",
    "stats_50 = {'rf': [], 'mlp': []}\n",
    "\n",
    "for i in range(n_iterations):\n",
    "\n",
    "    train = resample(values, n_samples = n_size) \n",
    "    test = np.array([x for x in values if x.tolist() not in train.tolist()]) \n",
    "\n",
    "    rf = RandomForestClassifier(max_depth=2, random_state=0).fit(train[:,:-1], train[:,-1])\n",
    "    y_pred_rf = rf.predict(test[:,:-1]) \n",
    "    rf_ac = accuracy_score(test[:,-1], y_pred_rf) \n",
    "    stats_50['rf'].append(rf_ac)\n",
    "\n",
    "    mlp = MLPClassifier(random_state=1, max_iter=2000).fit(train[:,:-1], train[:,-1])\n",
    "    y_pred_mlp = mlp.predict(test[:,:-1])\n",
    "    mlp_ac = accuracy_score(test[:,-1] , y_pred_mlp)\n",
    "    \n",
    "    stats_50['mlp'].append(mlp_ac)"
   ]
  },
  {
   "cell_type": "code",
   "execution_count": 191,
   "metadata": {},
   "outputs": [],
   "source": [
    "n_iterations = 50 \n",
    "n_size = int(len(data) * 0.7)\n",
    "\n",
    "stats_70 = {'rf': [], 'mlp': []}\n",
    "\n",
    "for i in range(n_iterations):\n",
    "\n",
    "    train = resample(values, n_samples = n_size) \n",
    "    test = np.array([x for x in values if x.tolist() not in train.tolist()]) \n",
    "\n",
    "    rf = RandomForestClassifier(max_depth=2, random_state=0).fit(train[:,:-1], train[:,-1])\n",
    "    y_pred_rf = rf.predict(test[:,:-1]) \n",
    "    rf_ac = accuracy_score(test[:,-1], y_pred_rf) \n",
    "    stats_70['rf'].append(rf_ac)\n",
    "\n",
    "    mlp = MLPClassifier(random_state=1, max_iter=2000).fit(train[:,:-1], train[:,-1])\n",
    "    y_pred_mlp = mlp.predict(test[:,:-1])\n",
    "    mlp_ac = accuracy_score(test[:,-1] , y_pred_mlp)\n",
    "    \n",
    "    stats_70['mlp'].append(mlp_ac)"
   ]
  },
  {
   "cell_type": "code",
   "execution_count": 192,
   "metadata": {},
   "outputs": [
    {
     "data": {
      "image/png": "[encoded data removed]",
      "text/plain": [
       "<Figure size 1000x500 with 2 Axes>"
      ]
     },
     "metadata": {
      "needs_background": "light"
     },
     "output_type": "display_data"
    }
   ],
   "source": [
    "fig, ax = plt.subplots(1, 2, figsize=(10, 5), dpi=100)\n",
    "\n",
    "ax[0].boxplot([stats_50['rf'], stats_50['mlp']])\n",
    "ax[0].set_xticklabels(['Random Forest', 'Multi-layer Perceptron'])\n",
    "ax[0].set_ylabel('Accuracy Score')\n",
    "ax[0].set_title('Heart Disease UCI (Bootstrap) 50%')\n",
    "\n",
    "\n",
    "ax[1].boxplot([stats_70['rf'], stats_70['mlp']])\n",
    "ax[1].set_xticklabels(['Random Forest', 'Multi-layer Perceptron'])\n",
    "ax[1].set_ylabel('Accuracy Score')\n",
    "ax[1].set_title('Heart Disease UCI (Bootstrap) 70%')\n",
    "\n",
    "plt.show()"
   ]
  },
  {
   "cell_type": "code",
   "execution_count": 216,
   "metadata": {},
   "outputs": [
    {
     "data": {
      "text/plain": [
       "(0.8827879622660683, 0.9377683339168315)"
      ]
     },
     "execution_count": 216,
     "metadata": {},
     "output_type": "execute_result"
    }
   ],
   "source": [
    "np.mean(stats_50['rf']), np.mean(stats_50['mlp'])"
   ]
  },
  {
   "cell_type": "code",
   "execution_count": 196,
   "metadata": {},
   "outputs": [
    {
     "name": "stdout",
     "output_type": "stream",
     "text": [
      "RF 95.0 confidence interval 82.3% and 93.0%\n"
     ]
    }
   ],
   "source": [
    "a = 0.95 \n",
    "p = ((1.0 - a)/2.0) * 100 \n",
    "lower_rf = max(0.0, np.percentile(stats_50['rf'],p))\n",
    "p = (a + ((1.0 - a)/ 2.0)) * 100 \n",
    "upper_rf = min(1.0, np.percentile(stats_50['rf'],p))\n",
    "print('RF %.1f confidence interval %.1f%% and %.1f%%' %(a*100, lower_rf*100, upper_rf*100))"
   ]
  },
  {
   "cell_type": "code",
   "execution_count": 197,
   "metadata": {},
   "outputs": [
    {
     "name": "stdout",
     "output_type": "stream",
     "text": [
      "MLP 95.0 confidence interval 87.6% and 97.7%\n"
     ]
    }
   ],
   "source": [
    "a = 0.95 \n",
    "p = ((1.0 - a)/2.0) * 100 \n",
    "lower_mlp = max(0.0, np.percentile(stats_50['mlp'],p))\n",
    "p = (a + ((1.0 - a)/ 2.0)) * 100 \n",
    "upper_mlp = min(1.0, np.percentile(stats_50['mlp'],p))\n",
    "print('MLP %.1f confidence interval %.1f%% and %.1f%%' %(a*100, lower_mlp*100, upper_mlp*100))"
   ]
  },
  {
   "cell_type": "markdown",
   "metadata": {},
   "source": [
    "### 0.632 Bootstrap "
   ]
  },
  {
   "cell_type": "code",
   "execution_count": 106,
   "metadata": {},
   "outputs": [],
   "source": [
    "X = df.values[:,:-1]\n",
    "y = df.values[:,-1]"
   ]
  },
  {
   "cell_type": "code",
   "execution_count": 114,
   "metadata": {},
   "outputs": [],
   "source": [
    "rf = RandomForestClassifier(max_depth=2, random_state=0).fit(train[:,:-1], train[:,-1])\n",
    "rf_scores_0632 = bootstrap_point632_score(rf, X, y, method='oob')"
   ]
  },
  {
   "cell_type": "code",
   "execution_count": 223,
   "metadata": {},
   "outputs": [
    {
     "name": "stdout",
     "output_type": "stream",
     "text": [
      "RF 95% Confidence interval (0.632): [81.81, 94.79]\n"
     ]
    }
   ],
   "source": [
    "rf_scores_0632_lower = np.percentile(rf_scores_0632, 2.5)\n",
    "rf_scores_0632_upper = np.percentile(rf_scores_0632, 97.5)\n",
    "print('RF 95%% Confidence interval (0.632): [%.2f, %.2f]' % (100*rf_scores_0632_lower, 100*rf_scores_0632_upper))"
   ]
  },
  {
   "cell_type": "code",
   "execution_count": 110,
   "metadata": {},
   "outputs": [
    {
     "name": "stderr",
     "output_type": "stream",
     "text": [
      "/Users/amirrahnama/opt/anaconda3/lib/python3.8/site-packages/sklearn/neural_network/_multilayer_perceptron.py:582: ConvergenceWarning: Stochastic Optimizer: Maximum iterations (1000) reached and the optimization hasn't converged yet.\n",
      "  warnings.warn(\n"
     ]
    }
   ],
   "source": [
    "mlp = MLPClassifier(random_state=1, max_iter=1000)\n",
    "mlp_scores_0632 = bootstrap_point632_score(mlp, X, y, method='oob')"
   ]
  },
  {
   "cell_type": "code",
   "execution_count": 219,
   "metadata": {},
   "outputs": [
    {
     "data": {
      "text/plain": [
       "(0.8865264782492689, 0.9719780902692117)"
      ]
     },
     "execution_count": 219,
     "metadata": {},
     "output_type": "execute_result"
    }
   ],
   "source": [
    "np.mean(rf_scores_0632), np.mean(mlp_scores_0632)"
   ]
  },
  {
   "cell_type": "code",
   "execution_count": 222,
   "metadata": {},
   "outputs": [
    {
     "name": "stdout",
     "output_type": "stream",
     "text": [
      "MLP 95% Confidence interval (0.632): [91.81, 99.17]\n"
     ]
    }
   ],
   "source": [
    "mlp_scores_0632_lower = np.percentile(mlp_scores_0632, 2.5)\n",
    "mlp_scores_0632_upper = np.percentile(mlp_scores_0632, 97.5)\n",
    "print('MLP 95%% Confidence interval (0.632): [%.2f, %.2f]' % (100*mlp_scores_0632_lower, 100*mlp_scores_0632_upper))"
   ]
  },
  {
   "cell_type": "code",
   "execution_count": 112,
   "metadata": {},
   "outputs": [
    {
     "data": {
      "image/png": "[encoded data removed]",
      "text/plain": [
       "<Figure size 864x432 with 2 Axes>"
      ]
     },
     "metadata": {
      "needs_background": "light"
     },
     "output_type": "display_data"
    }
   ],
   "source": [
    "fig, ax = plt.subplots(1, 2, figsize=(12, 6))\n",
    "\n",
    "ax[0].boxplot([stats['rf'], stats['mlp']])\n",
    "ax[0].set_xticklabels(['Random Forest', 'Multi-layer Perceptron'])\n",
    "ax[0].set_ylabel('Accuracy Score')\n",
    "ax[0].set_title('Heart Disease UCI (Bootstrap)')\n",
    "\n",
    "ax[1].boxplot([rf_scores_0632, mlp_scores_0632])\n",
    "ax[1].set_xticklabels(['Random Forest', 'Multi-layer Perceptron'])\n",
    "ax[1].set_ylabel('Accuracy Score')\n",
    "ax[1].set_title('Heart Disease UCI (0.632 Bootstrap )')\n",
    "\n",
    "plt.show()"
   ]
  },
  {
   "cell_type": "code",
   "execution_count": null,
   "metadata": {},
   "outputs": [],
   "source": []
  }
 ],
 "metadata": {
  "kernelspec": {
   "display_name": "Python 3",
   "language": "python",
   "name": "python3"
  },
  "language_info": {
   "codemirror_mode": {
    "name": "ipython",
    "version": 3
   },
   "file_extension": ".py",
   "mimetype": "text/x-python",
   "name": "python",
   "nbconvert_exporter": "python",
   "pygments_lexer": "ipython3",
   "version": "3.8.5"
  }
 },
 "nbformat": 4,
 "nbformat_minor": 4
}
